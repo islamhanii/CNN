{
  "nbformat": 4,
  "nbformat_minor": 0,
  "metadata": {
    "colab": {
      "name": "CV_Assignment2.ipynb",
      "provenance": [],
      "collapsed_sections": [],
      "authorship_tag": "ABX9TyOsbkch09YKqJRaEdG3Divs",
      "include_colab_link": true
    },
    "kernelspec": {
      "name": "python3",
      "display_name": "Python 3"
    },
    "language_info": {
      "name": "python"
    }
  },
  "cells": [
    {
      "cell_type": "markdown",
      "metadata": {
        "id": "view-in-github",
        "colab_type": "text"
      },
      "source": [
        "<a href=\"https://colab.research.google.com/github/islamhanii/CNN/blob/main/CV_Assignment2.ipynb\" target=\"_parent\"><img src=\"https://colab.research.google.com/assets/colab-badge.svg\" alt=\"Open In Colab\"/></a>"
      ]
    },
    {
      "cell_type": "code",
      "metadata": {
        "colab": {
          "base_uri": "https://localhost:8080/",
          "height": 1000
        },
        "id": "1gWBR4fhqMMH",
        "outputId": "a1381e35-6c7a-45ea-ed5c-6c0df0437004"
      },
      "source": [
        "import matplotlib.pyplot as plt\n",
        "from tensorflow.keras import datasets, layers, models, losses, metrics, optimizers\n",
        " \n",
        "(train_images, train_labels), (test_images, test_labels) = datasets.cifar10.load_data()\n",
        " \n",
        "train_images, test_images = train_images / 255.0, test_images / 255.0\n",
        " \n",
        "model = models.Sequential()\n",
        " \n",
        "model.add(layers.Conv2D(32, (3, 3), activation='relu', input_shape=(32, 32, 3)))\n",
        "model.add(layers.MaxPooling2D((2, 2)))\n",
        " \n",
        "model.add(layers.Conv2D(64, (3, 3), activation='relu'))\n",
        "model.add(layers.MaxPooling2D((2, 2)))\n",
        " \n",
        "model.add(layers.Conv2D(64, (3, 3), activation='relu'))\n",
        "model.add(layers.MaxPooling2D((2, 2)))\n",
        " \n",
        "model.add(layers.Flatten())\n",
        "model.add(layers.Dense(64, activation='relu'))\n",
        "model.add(layers.Dense(10))\n",
        " \n",
        "model.compile(optimizer=\"adam\", loss=losses.SparseCategoricalCrossentropy(from_logits=True), metrics=['accuracy'])\n",
        " \n",
        "history = model.fit(train_images, train_labels, batch_size=32, epochs=10, \n",
        "                    validation_data=(test_images, test_labels))\n",
        " \n",
        "plt.plot(history.history['accuracy'], label='accuracy')\n",
        "plt.plot(history.history['val_accuracy'], label = 'val_accuracy')\n",
        "plt.xlabel('Epoch')\n",
        "plt.ylabel('Accuracy')\n",
        "plt.ylim([0.5, 1])\n",
        "plt.legend(loc='lower right')\n",
        " \n",
        "test_loss, test_acc = model.evaluate(test_images,  test_labels, verbose=2)"
      ],
      "execution_count": null,
      "outputs": [
        {
          "output_type": "stream",
          "text": [
            "Model: \"sequential_18\"\n",
            "_________________________________________________________________\n",
            "Layer (type)                 Output Shape              Param #   \n",
            "=================================================================\n",
            "conv2d_54 (Conv2D)           (None, 30, 30, 32)        896       \n",
            "_________________________________________________________________\n",
            "max_pooling2d_52 (MaxPooling (None, 15, 15, 32)        0         \n",
            "_________________________________________________________________\n",
            "conv2d_55 (Conv2D)           (None, 13, 13, 64)        18496     \n",
            "_________________________________________________________________\n",
            "max_pooling2d_53 (MaxPooling (None, 6, 6, 64)          0         \n",
            "_________________________________________________________________\n",
            "conv2d_56 (Conv2D)           (None, 4, 4, 64)          36928     \n",
            "_________________________________________________________________\n",
            "max_pooling2d_54 (MaxPooling (None, 2, 2, 64)          0         \n",
            "_________________________________________________________________\n",
            "flatten_14 (Flatten)         (None, 256)               0         \n",
            "_________________________________________________________________\n",
            "dense_28 (Dense)             (None, 64)                16448     \n",
            "_________________________________________________________________\n",
            "dense_29 (Dense)             (None, 10)                650       \n",
            "=================================================================\n",
            "Total params: 73,418\n",
            "Trainable params: 73,418\n",
            "Non-trainable params: 0\n",
            "_________________________________________________________________\n",
            "Epoch 1/10\n",
            "1563/1563 [==============================] - 80s 51ms/step - loss: 1.5485 - accuracy: 0.4354 - val_loss: 1.3025 - val_accuracy: 0.5256\n",
            "Epoch 2/10\n",
            "1563/1563 [==============================] - 79s 51ms/step - loss: 1.2021 - accuracy: 0.5710 - val_loss: 1.1802 - val_accuracy: 0.5828\n",
            "Epoch 3/10\n",
            "1563/1563 [==============================] - 77s 50ms/step - loss: 1.0588 - accuracy: 0.6281 - val_loss: 1.0417 - val_accuracy: 0.6362\n",
            "Epoch 4/10\n",
            "1563/1563 [==============================] - 76s 49ms/step - loss: 0.9709 - accuracy: 0.6595 - val_loss: 0.9901 - val_accuracy: 0.6567\n",
            "Epoch 5/10\n",
            "1563/1563 [==============================] - 75s 48ms/step - loss: 0.8993 - accuracy: 0.6854 - val_loss: 1.0012 - val_accuracy: 0.6534\n",
            "Epoch 6/10\n",
            "1563/1563 [==============================] - 76s 49ms/step - loss: 0.8414 - accuracy: 0.7058 - val_loss: 0.9461 - val_accuracy: 0.6750\n",
            "Epoch 7/10\n",
            "1563/1563 [==============================] - 76s 48ms/step - loss: 0.7905 - accuracy: 0.7239 - val_loss: 0.8981 - val_accuracy: 0.6972\n",
            "Epoch 8/10\n",
            "1563/1563 [==============================] - 78s 50ms/step - loss: 0.7481 - accuracy: 0.7379 - val_loss: 0.8860 - val_accuracy: 0.7030\n",
            "Epoch 9/10\n",
            "1563/1563 [==============================] - 73s 47ms/step - loss: 0.7091 - accuracy: 0.7513 - val_loss: 0.8819 - val_accuracy: 0.6993\n",
            "Epoch 10/10\n",
            "1563/1563 [==============================] - 73s 47ms/step - loss: 0.6762 - accuracy: 0.7616 - val_loss: 0.8789 - val_accuracy: 0.7044\n",
            "313/313 - 4s - loss: 0.8789 - accuracy: 0.7044\n"
          ],
          "name": "stdout"
        },
        {
          "output_type": "display_data",
          "data": {
            "image/png": "[encoded data removed]",
            "text/plain": [
              "<Figure size 432x288 with 1 Axes>"
            ]
          },
          "metadata": {
            "tags": [],
            "needs_background": "light"
          }
        }
      ]
    }
  ]
}